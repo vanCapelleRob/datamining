{
 "cells": [
  {
   "cell_type": "code",
   "execution_count": 1,
   "id": "4e40b2a9",
   "metadata": {},
   "outputs": [
    {
     "name": "stdout",
     "output_type": "stream",
     "text": [
      "Requirement already satisfied: pyspark in c:\\users\\robva\\anaconda3.1\\lib\\site-packages (3.1.2)\n",
      "Requirement already satisfied: py4j==0.10.9 in c:\\users\\robva\\anaconda3.1\\lib\\site-packages (from pyspark) (0.10.9)\n",
      "Requirement already satisfied: findspark in c:\\users\\robva\\anaconda3.1\\lib\\site-packages (1.4.2)\n"
     ]
    }
   ],
   "source": [
    "import sys\n",
    "!{sys.executable} -m pip install pyspark\n",
    "!{sys.executable} -m pip install findspark"
   ]
  },
  {
   "cell_type": "code",
   "execution_count": 2,
   "id": "9205cda7",
   "metadata": {},
   "outputs": [
    {
     "data": {
      "text/plain": [
       "'c:/spark-3.1.2-bin-hadoop3.2'"
      ]
     },
     "execution_count": 2,
     "metadata": {},
     "output_type": "execute_result"
    }
   ],
   "source": [
    "import findspark\n",
    "findspark.init(\"c:/spark-3.1.2-bin-hadoop3.2\")\n",
    "findspark.find()"
   ]
  },
  {
   "cell_type": "code",
   "execution_count": 3,
   "id": "391234ee",
   "metadata": {},
   "outputs": [
    {
     "data": {
      "text/html": [
       "\n",
       "        <div>\n",
       "            <p><b>SparkContext</b></p>\n",
       "\n",
       "            <p><a href=\"http://DESKTOP-L6AS4MB:4040\">Spark UI</a></p>\n",
       "\n",
       "            <dl>\n",
       "              <dt>Version</dt>\n",
       "                <dd><code>v3.1.2</code></dd>\n",
       "              <dt>Master</dt>\n",
       "                <dd><code>local</code></dd>\n",
       "              <dt>AppName</dt>\n",
       "                <dd><code>Reactions on covid vaccine</code></dd>\n",
       "            </dl>\n",
       "        </div>\n",
       "        "
      ],
      "text/plain": [
       "<SparkContext master=local appName=Reactions on covid vaccine>"
      ]
     },
     "execution_count": 3,
     "metadata": {},
     "output_type": "execute_result"
    }
   ],
   "source": [
    "from pyspark.sql import SparkSession\n",
    "\n",
    "# Build the SparkSession\n",
    "spark = SparkSession.builder \\\n",
    "   .master(\"local\") \\\n",
    "   .appName(\"Reactions on covid vaccine\") \\\n",
    "   .config(\"spark.executor.memory\", \"1gb\") \\\n",
    "   .getOrCreate()\n",
    "sc = spark.sparkContext\n",
    "sc"
   ]
  },
  {
   "cell_type": "code",
   "execution_count": 4,
   "id": "b09c0b4e",
   "metadata": {},
   "outputs": [],
   "source": [
    "file = spark.read.option(\"header\", \"true\").csv(path=\"vaers_jan_aug_2021.csv\")"
   ]
  },
  {
   "cell_type": "code",
   "execution_count": 5,
   "id": "55d6ae3c",
   "metadata": {},
   "outputs": [],
   "source": [
    "total_lines = file.count()"
   ]
  },
  {
   "cell_type": "code",
   "execution_count": 6,
   "id": "ae2ce685",
   "metadata": {},
   "outputs": [],
   "source": [
    "# see how many people had which vaccine\n",
    "#pfizer = file.filter(\"VAX_MANU == 'PFIZER\\BIONTECH'\").groupBy(\"VAX_MANU\").count()\n",
    "pfizer = file.where(\"VAX_MANU like 'PFIZER%'\").count()\n",
    "moderna = file.filter(\"VAX_MANU == 'MODERNA'\").count()\n",
    "JenJ = file.filter(\"VAX_MANU == 'JANSSEN'\").count()\n",
    "unknown = file.filter(\"VAX_MANU == 'UNKNOWN MANUFACTURER'\").count()\n",
    "\n",
    "manus_labels = ['Moderna', 'Jonsen and Jonsen', 'unknown', 'Pfizer\\Biontech']\n",
    "manus = [moderna, JenJ, unknown, pfizer]\n",
    "\n",
    "manus_percent = []\n",
    "\n",
    "#convert to %\n",
    "for i in manus:\n",
    "    manus_percent.append(i * 100 / total_lines)"
   ]
  },
  {
   "cell_type": "code",
   "execution_count": 7,
   "id": "77aa5d0d",
   "metadata": {},
   "outputs": [
    {
     "data": {
      "image/png": "[encoded data removed]",
      "text/plain": [
       "<Figure size 432x288 with 1 Axes>"
      ]
     },
     "metadata": {},
     "output_type": "display_data"
    }
   ],
   "source": [
    "import matplotlib\n",
    "import matplotlib.pyplot as plt\n",
    "plt.pie(manus_percent, labels=manus_labels, autopct='%1.1f%%')\n",
    "plt.title('Vaccination types used')\n",
    "plt.show()"
   ]
  },
  {
   "cell_type": "code",
   "execution_count": 8,
   "id": "c420b91a",
   "metadata": {
    "scrolled": false
   },
   "outputs": [
    {
     "name": "stdout",
     "output_type": "stream",
     "text": [
      "The 5 biggest symptoms for pfizer: \n",
      "Headache 36385\n",
      "Fatigue 28260\n",
      "Pain 21433\n",
      "Chills 21028\n",
      "Dizziness 19040\n",
      "\n",
      "\n",
      "The 5 biggest symptoms for moderna: \n",
      "Headache 30241\n",
      "Chills 26625\n",
      "Fatigue 25374\n",
      "Pyrexia 21194\n",
      "Pain 18822\n"
     ]
    }
   ],
   "source": [
    "import operator\n",
    "import itertools\n",
    "# see the 5 most common symptoms of pfizer and moderna (they are the 2 biggest)\n",
    "\n",
    "#pfyzer\n",
    "symptoms1_pf = file.where(\"VAX_MANU like 'PFIZER%' and SYMPTOM1 is not NULL\").groupBy(\"SYMPTOM1\").count().orderBy(\"count\", ascending=False).limit(5)\n",
    "symptoms2_pf = file.where(\"VAX_MANU like 'PFIZER%' and SYMPTOM2 is not NULL\").groupBy(\"SYMPTOM2\").count().orderBy(\"count\", ascending=False).limit(5)\n",
    "symptoms3_pf = file.where(\"VAX_MANU like 'PFIZER%' and SYMPTOM3 is not NULL\").groupBy(\"SYMPTOM3\").count().orderBy(\"count\", ascending=False).limit(5)\n",
    "symptoms4_pf = file.where(\"VAX_MANU like 'PFIZER%' and SYMPTOM4 is not NULL\").groupBy(\"SYMPTOM4\").count().orderBy(\"count\", ascending=False).limit(5)\n",
    "symptoms5_pf = file.where(\"VAX_MANU like 'PFIZER%' and SYMPTOM5 is not NULL\").groupBy(\"SYMPTOM5\").count().orderBy(\"count\", ascending=False).limit(5)\n",
    "\n",
    "big_five_pf = {}\n",
    "\n",
    "all_rows_pf = []\n",
    "row1 = symptoms1_pf.take(5)\n",
    "row2 = symptoms2_pf.take(5)\n",
    "row3 = symptoms3_pf.take(5)\n",
    "row4 = symptoms4_pf.take(5)\n",
    "row5 = symptoms5_pf.take(5)\n",
    "all_rows_pf.append(row1)\n",
    "all_rows_pf.append(row2)\n",
    "all_rows_pf.append(row3)\n",
    "all_rows_pf.append(row4)\n",
    "all_rows_pf.append(row5)\n",
    "\n",
    "# append all symptoms for ease of use\n",
    "for row in all_rows_pf:\n",
    "    for symp in row:\n",
    "        big_five_pf[symp[0]] = 0\n",
    "\n",
    "# update the amount of times it was mentioned in the data\n",
    "for row in all_rows_pf:\n",
    "    for symp in row:\n",
    "#         print(symp[0], symp[1]) \n",
    "        big_five_pf[symp[0]] = big_five_pf[symp[0]] + symp[1]\n",
    "         \n",
    "# print(\"dict: \")\n",
    "# for x, y in big_five.items():\n",
    "#     print(x, y)\n",
    "\n",
    "# print(\"now sorted: \")\n",
    "big_five_pf_sorted = dict(sorted(big_five_pf.items(), key=operator.itemgetter(1), reverse=True))\n",
    "# for x, y in big_five_sorted.items():\n",
    "#     print(x, y)\n",
    "    \n",
    "print(\"The 5 biggest symptoms for pfizer: \")\n",
    "pfizer_symp_names = []\n",
    "pfizer_symp_amounts = []\n",
    "top_five_pf = dict(itertools.islice(big_five_pf_sorted.items(), 5))\n",
    "for x, y in top_five_pf.items():\n",
    "    print(x, y)\n",
    "    pfizer_symp_names.append(x)\n",
    "    pfizer_symp_amounts.append(y)\n",
    "\n",
    "\n",
    "    \n",
    "print(\"\\n\")\n",
    "    \n",
    "#Moderna\n",
    "symptoms1_mod = file.filter(\"VAX_MANU like 'MODERNA' and SYMPTOM1 is not NULL\").groupBy(\"SYMPTOM1\").count().orderBy(\"count\", ascending=False).limit(5)\n",
    "symptoms2_mod = file.filter(\"VAX_MANU like 'MODERNA' and SYMPTOM2 is not NULL\").groupBy(\"SYMPTOM2\").count().orderBy(\"count\", ascending=False).limit(5)\n",
    "symptoms3_mod = file.filter(\"VAX_MANU like 'MODERNA' and SYMPTOM3 is not NULL\").groupBy(\"SYMPTOM3\").count().orderBy(\"count\", ascending=False).limit(5)\n",
    "symptoms4_mod = file.filter(\"VAX_MANU like 'MODERNA' and SYMPTOM4 is not NULL\").groupBy(\"SYMPTOM4\").count().orderBy(\"count\", ascending=False).limit(5)\n",
    "symptoms5_mod = file.filter(\"VAX_MANU like 'MODERNA' and SYMPTOM5 is not NULL\").groupBy(\"SYMPTOM5\").count().orderBy(\"count\", ascending=False).limit(5)\n",
    "\n",
    "big_five_mod = {}\n",
    "\n",
    "all_rows_mod = []\n",
    "row1 = symptoms1_mod.take(5)\n",
    "row2 = symptoms2_mod.take(5)\n",
    "row3 = symptoms3_mod.take(5)\n",
    "row4 = symptoms4_mod.take(5)\n",
    "row5 = symptoms5_mod.take(5)\n",
    "all_rows_mod.append(row1)\n",
    "all_rows_mod.append(row2)\n",
    "all_rows_mod.append(row3)\n",
    "all_rows_mod.append(row4)\n",
    "all_rows_mod.append(row5)\n",
    "\n",
    "# append all symptoms for ease of use\n",
    "for row in all_rows_mod:\n",
    "    for symp in row:\n",
    "        big_five_mod[symp[0]] = 0\n",
    "\n",
    "# update the amount of times it was mentioned in the data\n",
    "for row in all_rows_mod:\n",
    "    for symp in row:\n",
    "        big_five_mod[symp[0]] = big_five_mod[symp[0]] + symp[1]\n",
    "         \n",
    "big_five_mod_sorted = dict(sorted(big_five_mod.items(), key=operator.itemgetter(1), reverse=True))\n",
    "    \n",
    "print(\"The 5 biggest symptoms for moderna: \")\n",
    "moderna_symp_names = []\n",
    "moderna_symp_amounts = []\n",
    "top_five_mod = dict(itertools.islice(big_five_mod_sorted.items(), 5))\n",
    "for x, y in top_five_mod.items():\n",
    "    print(x, y)\n",
    "    moderna_symp_names.append(x)\n",
    "    moderna_symp_amounts.append(y)\n"
   ]
  },
  {
   "cell_type": "code",
   "execution_count": 9,
   "id": "b16f7e16",
   "metadata": {},
   "outputs": [
    {
     "data": {
      "image/png": "[encoded data removed]",
      "text/plain": [
       "<Figure size 720x504 with 1 Axes>"
      ]
     },
     "metadata": {
      "needs_background": "light"
     },
     "output_type": "display_data"
    }
   ],
   "source": [
    "import numpy as np\n",
    "symp_names = pfizer_symp_names\n",
    "\n",
    "moderna_symp_amounts.sort(reverse=True)\n",
    "#TODO MODERNA PAIN AND CHILLS MUST ACTUALLY BE SWITCHED! DONT KNOW HOW WITHOUT HARDCODING\n",
    "x_axis = np.arange(len(symp_names))\n",
    "fig = plt.figure(figsize=(10, 7))\n",
    "splt = fig. add_subplot(111)\n",
    "splt.bar(x_axis - 0.2, pfizer_symp_amounts, width=0.4, color='b', align='center', label='pfizer')\n",
    "splt.bar(x_axis + 0.2, moderna_symp_amounts, width=0.4, color='g', align='center', label='moderna')\n",
    "fig.suptitle(\"5 most common symptoms between pfizer and moderna\")\n",
    "plt.xticks(x_axis, symp_names)\n",
    "splt.set_xlabel('Symptom names')\n",
    "splt.set_ylabel('Amount of cases reported')\n",
    "splt.legend()\n",
    "plt.show()"
   ]
  },
  {
   "cell_type": "code",
   "execution_count": 10,
   "id": "207f9246",
   "metadata": {},
   "outputs": [
    {
     "name": "stdout",
     "output_type": "stream",
     "text": [
      "+---+------+\n",
      "|SEX| count|\n",
      "+---+------+\n",
      "|  F|426390|\n",
      "|  M|165134|\n",
      "|  U| 11938|\n",
      "+---+------+\n",
      "\n"
     ]
    },
    {
     "data": {
      "text/plain": [
       "<BarContainer object of 3 artists>"
      ]
     },
     "execution_count": 10,
     "metadata": {},
     "output_type": "execute_result"
    },
    {
     "data": {
      "image/png": "[encoded data removed]",
      "text/plain": [
       "<Figure size 432x288 with 1 Axes>"
      ]
     },
     "metadata": {
      "needs_background": "light"
     },
     "output_type": "display_data"
    }
   ],
   "source": [
    "# now a overview of the gender of these studies\n",
    "sexes = file.filter(\"SEX is not NULL\").groupBy(\"SEX\").count()\n",
    "sexes.show()\n",
    "\n",
    "xas = sexes.filter(\"SEX is not NULL\").select(\"SEX\").rdd.flatMap(lambda x: x).collect()\n",
    "yas = sexes.filter(\"count is not NULL\").select(\"count\").rdd.flatMap(lambda x: x).collect()\n",
    "\n",
    "plt.title('Overview genders', fontsize=14)\n",
    "plt.bar(xas, yas, align=\"center\")\n",
    "#plt.show()\n",
    "# TODO VERY SLOW"
   ]
  },
  {
   "cell_type": "code",
   "execution_count": 11,
   "id": "d2a12623",
   "metadata": {},
   "outputs": [
    {
     "name": "stdout",
     "output_type": "stream",
     "text": [
      "The 5 biggest symptoms for women: \n",
      "Headache 53855\n",
      "Fatigue 49225\n",
      "Chills 41272\n",
      "Pain 40733\n",
      "Pyrexia 32759\n",
      "The 5 biggest symptoms for men: \n",
      "Pyrexia 15508\n",
      "Fatigue 15504\n",
      "Headache 15361\n",
      "Chills 14001\n",
      "Dizziness 10880\n"
     ]
    }
   ],
   "source": [
    "import operator\n",
    "import itertools\n",
    "# see the 5 most common symptoms between males and females\n",
    "# the cases where the sex is filled in as 'U', will not be used here.\n",
    "# simply because in my eyes 'U' means unknown, thus it would only ruin the comparison\n",
    "\n",
    "# female\n",
    "symptoms1_f = file.filter(\"SEX == 'F' and SYMPTOM1 is not NULL\").groupBy(\"SYMPTOM1\").count().orderBy(\"count\", ascending=False).limit(5)\n",
    "symptoms2_f = file.filter(\"SEX == 'F' and SYMPTOM2 is not NULL\").groupBy(\"SYMPTOM2\").count().orderBy(\"count\", ascending=False).limit(5)\n",
    "symptoms3_f = file.filter(\"SEX == 'F' and SYMPTOM3 is not NULL\").groupBy(\"SYMPTOM3\").count().orderBy(\"count\", ascending=False).limit(5)\n",
    "symptoms4_f = file.filter(\"SEX == 'F' and SYMPTOM4 is not NULL\").groupBy(\"SYMPTOM4\").count().orderBy(\"count\", ascending=False).limit(5)\n",
    "symptoms5_f = file.filter(\"SEX == 'F' and SYMPTOM5 is not NULL\").groupBy(\"SYMPTOM5\").count().orderBy(\"count\", ascending=False).limit(5)\n",
    "\n",
    "big_five_f = {}\n",
    "\n",
    "all_rows_f = []\n",
    "row1 = symptoms1_f.take(5)\n",
    "row2 = symptoms2_f.take(5)\n",
    "row3 = symptoms3_f.take(5)\n",
    "row4 = symptoms4_f.take(5)\n",
    "row5 = symptoms5_f.take(5)\n",
    "all_rows_f.append(row1)\n",
    "all_rows_f.append(row2)\n",
    "all_rows_f.append(row3)\n",
    "all_rows_f.append(row4)\n",
    "all_rows_f.append(row5)\n",
    "\n",
    "# append all symptoms for ease of use\n",
    "for row in all_rows_f:\n",
    "    for symp in row:\n",
    "        big_five_f[symp[0]] = 0\n",
    "\n",
    "# update the amount of times it was mentioned in the data\n",
    "for row in all_rows_f:\n",
    "    for symp in row:\n",
    "        big_five_f[symp[0]] = big_five_f[symp[0]] + symp[1]\n",
    "\n",
    "big_five_f_sorted = dict(sorted(big_five_f.items(), key=operator.itemgetter(1), reverse=True))\n",
    "\n",
    "print(\"The 5 biggest symptoms for women: \")\n",
    "female_symp_names = []\n",
    "female_symp_amounts = []\n",
    "top_five_f = dict(itertools.islice(big_five_f_sorted.items(), 5))\n",
    "for x, y in top_five_f.items():\n",
    "    print(x, y)\n",
    "    female_symp_names.append(x)\n",
    "    female_symp_amounts.append(y)\n",
    "    \n",
    "# male\n",
    "symptoms1_m = file.filter(\"SEX == 'M' and SYMPTOM1 is not NULL\").groupBy(\"SYMPTOM1\").count().orderBy(\"count\", ascending=False).limit(5)\n",
    "symptoms2_m = file.filter(\"SEX == 'M' and SYMPTOM2 is not NULL\").groupBy(\"SYMPTOM2\").count().orderBy(\"count\", ascending=False).limit(5)\n",
    "symptoms3_m = file.filter(\"SEX == 'M' and SYMPTOM3 is not NULL\").groupBy(\"SYMPTOM3\").count().orderBy(\"count\", ascending=False).limit(5)\n",
    "symptoms4_m = file.filter(\"SEX == 'M' and SYMPTOM4 is not NULL\").groupBy(\"SYMPTOM4\").count().orderBy(\"count\", ascending=False).limit(5)\n",
    "symptoms5_m = file.filter(\"SEX == 'M' and SYMPTOM5 is not NULL\").groupBy(\"SYMPTOM5\").count().orderBy(\"count\", ascending=False).limit(5)\n",
    "\n",
    "big_five_m = {}\n",
    "\n",
    "all_rows_m = []\n",
    "row1 = symptoms1_m.take(5)\n",
    "row2 = symptoms2_m.take(5)\n",
    "row3 = symptoms3_m.take(5)\n",
    "row4 = symptoms4_m.take(5)\n",
    "row5 = symptoms5_m.take(5)\n",
    "all_rows_m.append(row1)\n",
    "all_rows_m.append(row2)\n",
    "all_rows_m.append(row3)\n",
    "all_rows_m.append(row4)\n",
    "all_rows_m.append(row5)\n",
    "\n",
    "# append all symptoms for ease of use\n",
    "for row in all_rows_m:\n",
    "    for symp in row:\n",
    "        big_five_m[symp[0]] = 0\n",
    "\n",
    "# update the amount of times it was mentioned in the data\n",
    "for row in all_rows_m:\n",
    "    for symp in row:\n",
    "        big_five_m[symp[0]] = big_five_m[symp[0]] + symp[1]\n",
    "\n",
    "big_five_m_sorted = dict(sorted(big_five_m.items(), key=operator.itemgetter(1), reverse=True))\n",
    "\n",
    "print(\"The 5 biggest symptoms for men: \")\n",
    "male_symp_names = []\n",
    "male_symp_amounts = []\n",
    "top_five_m = dict(itertools.islice(big_five_m_sorted.items(), 5))\n",
    "for x, y in top_five_m.items():\n",
    "    print(x, y)\n",
    "    male_symp_names.append(x)\n",
    "    male_symp_amounts.append(y)\n"
   ]
  },
  {
   "cell_type": "code",
   "execution_count": 12,
   "id": "697ded7f",
   "metadata": {},
   "outputs": [
    {
     "data": {
      "image/png": "[encoded data removed]",
      "text/plain": [
       "<Figure size 720x504 with 1 Axes>"
      ]
     },
     "metadata": {
      "needs_background": "light"
     },
     "output_type": "display_data"
    }
   ],
   "source": [
    "symp_names = female_symp_names\n",
    "x_axis = np.arange(len(symp_names))\n",
    "fig = plt.figure(figsize=(10, 7))\n",
    "splt = fig. add_subplot(111)\n",
    "splt.bar(x_axis - 0.2, female_symp_amounts, width=0.4, color='b', align='center', label='women')\n",
    "splt.bar(x_axis + 0.2, male_symp_amounts, width=0.4, color='g', align='center', label='men')\n",
    "fig.suptitle(\"5 most common symptoms between men and women\")\n",
    "plt.xticks(x_axis, symp_names)\n",
    "splt.set_xlabel('Symptom names')\n",
    "splt.set_ylabel('Amount of cases reported')\n",
    "splt.legend()\n",
    "plt.show()"
   ]
  },
  {
   "cell_type": "code",
   "execution_count": null,
   "id": "717714a1",
   "metadata": {},
   "outputs": [],
   "source": []
  },
  {
   "cell_type": "code",
   "execution_count": 20,
   "id": "5fd422f0",
   "metadata": {},
   "outputs": [],
   "source": [
    "# loading in a new file. This time its from 2020 not 2021\n",
    "file_2020 = spark.read.option(\"header\", \"true\").csv(path=\"2020Covid19VAERSDataset.csv\")"
   ]
  },
  {
   "cell_type": "code",
   "execution_count": 21,
   "id": "c642b094",
   "metadata": {},
   "outputs": [
    {
     "name": "stdout",
     "output_type": "stream",
     "text": [
      "14073\n"
     ]
    }
   ],
   "source": [
    "total_lines_2020 = file_2020.count()"
   ]
  },
  {
   "cell_type": "code",
   "execution_count": 46,
   "id": "8450bb65",
   "metadata": {},
   "outputs": [
    {
     "name": "stdout",
     "output_type": "stream",
     "text": [
      "+--------------------+-----+\n",
      "|            VAX_MANU|count|\n",
      "+--------------------+-----+\n",
      "|     PFIZER\\BIONTECH| 1178|\n",
      "|             MODERNA|  916|\n",
      "|UNKNOWN MANUFACTURER|    5|\n",
      "|             JANSSEN|    1|\n",
      "+--------------------+-----+\n",
      "\n"
     ]
    },
    {
     "data": {
      "image/png": "[encoded data removed]",
      "text/plain": [
       "<Figure size 720x504 with 1 Axes>"
      ]
     },
     "metadata": {
      "needs_background": "light"
     },
     "output_type": "display_data"
    },
    {
     "name": "stdout",
     "output_type": "stream",
     "text": [
      "+---------------+-----+\n",
      "|       VAX_MANU|count|\n",
      "+---------------+-----+\n",
      "|PFIZER\\BIONTECH|   11|\n",
      "|        MODERNA|    6|\n",
      "+---------------+-----+\n",
      "\n"
     ]
    },
    {
     "data": {
      "image/png": "[encoded data removed]",
      "text/plain": [
       "<Figure size 720x504 with 1 Axes>"
      ]
     },
     "metadata": {
      "needs_background": "light"
     },
     "output_type": "display_data"
    }
   ],
   "source": [
    "# now instead of the symptoms people got from the vaccine, lets compare wich vaccine caused the most deaths.\n",
    "manus_caused_death_2021 = file.where(\"DIED == 'Y' and DIED is not NULL and VAX_DATE like '01%'\").groupBy(\"VAX_MANU\").count().orderBy(\"count\", ascending=False)\n",
    "manus_caused_death_2021.show()\n",
    "\n",
    "xas_2021 = manus_caused_death_2021.filter(\"VAX_MANU is not NULL\").select(\"VAX_MANU\").rdd.flatMap(lambda x: x).collect()\n",
    "yas_2021 = manus_caused_death_2021.filter(\"count is not NULL\").select(\"count\").rdd.flatMap(lambda x: x).collect()\n",
    "\n",
    "fig_2021 = plt.figure(figsize=(10, 7))\n",
    "fig_2021.suptitle(\"Amount of deaths caused by each manufacturer in january 2021\")\n",
    "sub_2021 = fig_2021.add_subplot(111)\n",
    "sub_2021.set_xlabel(\"Vaccine manufacturers\")\n",
    "sub_2021.set_ylabel(\"Count\")\n",
    "sub_2021.bar(xas_2021, yas_2021, align=\"center\")\n",
    "plt.show()\n",
    "\n",
    "\n",
    "\n",
    "\n",
    "manus_caused_death_2020 = file_2020.where(\"DIED == 'Y' and DIED is not NULL and VAX_DATE like '12%'\").groupBy(\"VAX_MANU\").count().orderBy(\"count\", ascending=False)\n",
    "manus_caused_death_2020.show()\n",
    "\n",
    "xas_2020 = manus_caused_death_2020.filter(\"VAX_MANU is not NULL\").select(\"VAX_MANU\").rdd.flatMap(lambda x: x).collect()\n",
    "yas_2020 = manus_caused_death_2020.filter(\"count is not NULL\").select(\"count\").rdd.flatMap(lambda x: x).collect()\n",
    "\n",
    "fig_2020 = plt.figure(figsize=(10, 7))\n",
    "fig_2020.suptitle(\"Amount of deaths caused by each manufacturer in december 2020\")\n",
    "sub_2020 = fig_2020.add_subplot(111)\n",
    "sub_2020.set_xlabel(\"Vaccine manufacturers\")\n",
    "sub_2020.set_ylabel(\"Count\")\n",
    "sub_2020.bar(xas_2020, yas_2020, align=\"center\")\n",
    "plt.show()"
   ]
  },
  {
   "cell_type": "code",
   "execution_count": 53,
   "id": "7da48f5c",
   "metadata": {},
   "outputs": [
    {
     "name": "stdout",
     "output_type": "stream",
     "text": [
      "Total data to work with: \n",
      "with dataset from 2021: 603462\n",
      "with dataset from 2020: 14073\n",
      "The second set has in fact only 2.33% data of the first one.\n"
     ]
    }
   ],
   "source": [
    "# of course we need to keep in mind that the second dataset has way less data to work with.\n",
    "print(\"Total data to work with: \")\n",
    "print(\"with dataset from 2021: \" + str(total_lines))\n",
    "print(\"with dataset from 2020: \" + str(total_lines_2020))\n",
    "print(\"The second set has in fact only \" + str(round(total_lines_2020/total_lines*100, 2)) + \"% data of the first one.\")"
   ]
  },
  {
   "cell_type": "code",
   "execution_count": null,
   "id": "1917c9a0",
   "metadata": {},
   "outputs": [],
   "source": []
  }
 ],
 "metadata": {
  "kernelspec": {
   "display_name": "Python 3",
   "language": "python",
   "name": "python3"
  },
  "language_info": {
   "codemirror_mode": {
    "name": "ipython",
    "version": 3
   },
   "file_extension": ".py",
   "mimetype": "text/x-python",
   "name": "python",
   "nbconvert_exporter": "python",
   "pygments_lexer": "ipython3",
   "version": "3.8.8"
  }
 },
 "nbformat": 4,
 "nbformat_minor": 5
}
