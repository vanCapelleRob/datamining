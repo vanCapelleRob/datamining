{
 "cells": [
  {
   "cell_type": "code",
   "execution_count": 21,
   "metadata": {},
   "outputs": [
    {
     "name": "stdout",
     "output_type": "stream",
     "text": [
      "Totaal aantal likes US: 154712\n",
      "Totaal aantal views US: 3167157\n",
      "Verhouding likes/views: 20.4713079786959\n",
      "This means that for every 20.471308 views in the US will get you 1 like\n"
     ]
    }
   ],
   "source": [
    "# To find out where the pyspark\n",
    "import findspark\n",
    "findspark.init()\n",
    "\n",
    "# Creating Spark Context\n",
    "from pyspark import SparkContext\n",
    "sc = SparkContext(\"local\", \"first app\")\n",
    "\n",
    "file = sc.textFile('test.csv')\n #werk met een lokaal file omdat niet alle rijen van de dataset werkte",
    "\n",
    "\n",
    "lines = file.map(lambda line: line.split(\",\")) \n",
    "US_total_likes = 0\n",
    "US_total_views = 0\n",
    "\n",
    "\n",
    "\n",
    "for i in lines.collect():\n",
    "\n",
    "    if i[0] == '5qpjK5DgCt4' or i[0] == 'JBZTZZAcFTw':\n",
    "        break\n",
    "    if i[8] != 'likes':\n",
    "        US_total_likes += int(i[8])\n",
    "    if i[7] != 'views':\n",
    "        US_total_views += int(i[7])\n",
    "\n",
    "\n",
    "print(\"Totaal aantal likes US: \" + str(US_total_likes))\n",
    "print(\"Totaal aantal views US: \" + str(US_total_views))\n",
    "\n",
    "correlation = US_total_views / US_total_likes\n",
    "print(\"Verhouding likes/views: \" + str(correlation))\n",
    "print(\"This means that for every %f views in the US will get you 1 like\" % (correlation))\n",
    "\n",
    "sc.stop()"
   ]
  },
  {
   "cell_type": "code",
   "execution_count": 6,
   "metadata": {},
   "outputs": [
    {
     "name": "stderr",
     "output_type": "stream",
     "text": [
      "/usr/lib/python3/dist-packages/ipykernel_launcher.py:16: UserWarning: Matplotlib is currently using module://ipykernel.pylab.backend_inline, which is a non-GUI backend, so cannot show the figure.\n",
      "  app.launch_new_instance()\n"
     ]
    },
    {
     "data": {
      "image/png": "[encoded data removed]",
      "text/plain": [
       "<Figure size 432x288 with 1 Axes>"
      ]
     },
     "metadata": {},
     "output_type": "display_data"
    }
   ],
   "source": [
    "import matplotlib.pyplot as plt\n",
    "\n",
    "\n",
    "# fig, ax = plt.subplots()\n",
    "# ax.plot([1, 2, 3, 4], [1, 4, 2, 3])\n",
    "\n",
    "fig = plt.figure()  # an empty figure with no Axes\n",
    "fig.suptitle('test fig', fontsize=20)\n",
    "ax = fig.add_subplot() \n",
    "ax.set_xlabel('x')\n",
    "ax.set_ylabel('y')\n",
    "ax.bar(['0', '1'], [800, 1024], fc='darksalmon', align='center')\n",
    "\n",
    "fig.show()"
   ]
  }
 ],
 "metadata": {
  "kernelspec": {
   "display_name": "Python 3",
   "language": "python",
   "name": "python3"
  },
  "language_info": {
   "codemirror_mode": {
    "name": "ipython",
    "version": 3
   },
   "file_extension": ".py",
   "mimetype": "text/x-python",
   "name": "python",
   "nbconvert_exporter": "python",
   "pygments_lexer": "ipython3",
   "version": "3.6.9"
  }
 },
 "nbformat": 4,
 "nbformat_minor": 2
}
